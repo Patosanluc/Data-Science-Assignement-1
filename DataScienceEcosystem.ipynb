{
  "nbformat": 4,
  "nbformat_minor": 0,
  "metadata": {
    "colab": {
      "provenance": [],
      "toc_visible": true,
      "authorship_tag": "ABX9TyMDc2fHi6b/PfBdHorDYch7"
    },
    "kernelspec": {
      "name": "python3",
      "display_name": "Python 3"
    },
    "language_info": {
      "name": "python"
    }
  },
  "cells": [
    {
      "cell_type": "markdown",
      "source": [
        "<h1>  Data Science Tools and Ecosystem <h1>"
      ],
      "metadata": {
        "id": "GM8R-fQ7uWMw"
      }
    },
    {
      "cell_type": "markdown",
      "source": [
        "In this notebook, Data Science Tools and Ecosystem are summarized."
      ],
      "metadata": {
        "id": "ssOS2I9IzONX"
      }
    },
    {
      "cell_type": "markdown",
      "source": [
        "#Some of the popular languages that Data Scientists use are:\n",
        "<ol>\n",
        "<li>Python</li>\n",
        "<li>R</li>\n",
        "<li>Java</li>\n",
        "</ol>"
      ],
      "metadata": {
        "id": "GX6ofsnAz2ZI"
      }
    },
    {
      "cell_type": "markdown",
      "source": [
        "# Some of the commonly used libraries used by Data Scientists include:\n",
        "<ol>\n",
        "<li>Matplotlib</li>\n",
        "<li>Pandas</li>\n",
        "<li>NumPy</li>\n",
        "</ol>"
      ],
      "metadata": {
        "id": "OHjQBdpd05QY"
      }
    },
    {
      "cell_type": "markdown",
      "source": [
        "Data Science Tools  |\n",
        "--------------------|\n",
        "Jupyter Notebooks       |\n",
        "Pytorch     |\n",
        "TensorFlow    |"
      ],
      "metadata": {
        "id": "g3zram0227Ml"
      }
    }
  ]
}