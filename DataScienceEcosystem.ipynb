{
  "nbformat": 4,
  "nbformat_minor": 0,
  "metadata": {
    "colab": {
      "provenance": [],
      "toc_visible": true,
      "authorship_tag": "ABX9TyOnTqwwW+s2WdZLbrgJznNu"
    },
    "kernelspec": {
      "name": "python3",
      "display_name": "Python 3"
    },
    "language_info": {
      "name": "python"
    }
  },
  "cells": [
    {
      "cell_type": "markdown",
      "source": [
        "<h1>  Data Science Tools and Ecosystem <h1>"
      ],
      "metadata": {
        "id": "GM8R-fQ7uWMw"
      }
    },
    {
      "cell_type": "markdown",
      "source": [
        "In this notebook, Data Science Tools and Ecosystem are summarized."
      ],
      "metadata": {
        "id": "ssOS2I9IzONX"
      }
    },
    {
      "cell_type": "markdown",
      "source": [
        "<b>Objectives:</b>\n",
        "<ul>\n",
        "<li>List popular languages for Data Science</li>\n",
        "<li>List popular Data Science Tools</li>\n",
        "<li>List commonly used libraries</li>\n",
        "</ul>"
      ],
      "metadata": {
        "id": "tmHbQ0LIAcnc"
      }
    },
    {
      "cell_type": "markdown",
      "source": [
        "#Some of the popular languages that Data Scientists use are:\n",
        "<ol>\n",
        "<li>Python</li>\n",
        "<li>R</li>\n",
        "<li>Java</li>\n",
        "</ol>"
      ],
      "metadata": {
        "id": "GX6ofsnAz2ZI"
      }
    },
    {
      "cell_type": "markdown",
      "source": [
        "# Some of the commonly used libraries used by Data Scientists include:\n",
        "<ol>\n",
        "<li>Matplotlib</li>\n",
        "<li>Pandas</li>\n",
        "<li>NumPy</li>\n",
        "</ol>"
      ],
      "metadata": {
        "id": "OHjQBdpd05QY"
      }
    },
    {
      "cell_type": "markdown",
      "source": [
        "Data Science Tools  |\n",
        "--------------------|\n",
        "Jupyter Notebooks       |\n",
        "Pytorch     |\n",
        "TensorFlow    |"
      ],
      "metadata": {
        "id": "g3zram0227Ml"
      }
    },
    {
      "cell_type": "markdown",
      "source": [
        "###Below are a few examples of evaluating arithmetic expressions in Python"
      ],
      "metadata": {
        "id": "JBlnsmWI-c4f"
      }
    },
    {
      "cell_type": "code",
      "source": [
        "#This a simple arithmetic expression to mutiply then add integers\n",
        "(3*4)+5\n"
      ],
      "metadata": {
        "colab": {
          "base_uri": "https://localhost:8080/"
        },
        "id": "cS-2IbeL-vNq",
        "outputId": "cb8a0cb9-9e60-4899-e4d0-d862bb73c140"
      },
      "execution_count": 7,
      "outputs": [
        {
          "output_type": "execute_result",
          "data": {
            "text/plain": [
              "17"
            ]
          },
          "metadata": {},
          "execution_count": 7
        }
      ]
    },
    {
      "cell_type": "code",
      "source": [
        "#This will convert 200 minutes to hours by diving by 60\n",
        "200/60"
      ],
      "metadata": {
        "colab": {
          "base_uri": "https://localhost:8080/"
        },
        "id": "Ta-Xr34nALnK",
        "outputId": "6f5ab925-b24f-413a-bcbb-d2d41ccd3dd7"
      },
      "execution_count": 8,
      "outputs": [
        {
          "output_type": "execute_result",
          "data": {
            "text/plain": [
              "3.3333333333333335"
            ]
          },
          "metadata": {},
          "execution_count": 8
        }
      ]
    },
    {
      "cell_type": "markdown",
      "source": [
        "##Author\n",
        "Patricio Sanchez"
      ],
      "metadata": {
        "id": "ILcGaMK6BlP2"
      }
    }
  ]
}